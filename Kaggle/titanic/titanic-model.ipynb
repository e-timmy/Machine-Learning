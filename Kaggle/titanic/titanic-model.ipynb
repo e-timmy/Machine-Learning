{
 "cells": [
  {
   "cell_type": "markdown",
   "id": "839ea01f",
   "metadata": {},
   "source": [
    "# Titanic - Machine Learning from Disaster\n",
    "\n",
    "Filename: titanic-model.ipynb \\\n",
    "Author: Timothy Holland \\\n",
    "Last updated: 17/05/2024 \\\n",
    "Kaggle competition: https://www.kaggle.com/competitions/titanic/data\n",
    "\n"
   ]
  },
  {
   "cell_type": "markdown",
   "id": "fff34f82",
   "metadata": {},
   "source": [
    "#### 1. Data Preprocessing"
   ]
  },
  {
   "cell_type": "code",
   "execution_count": 16,
   "id": "834d5221",
   "metadata": {},
   "outputs": [],
   "source": [
    "import pandas as pd\n",
    "\n",
    "# Loading dataset into DataFrames\n",
    "train_df = pd.read_csv(\"train.csv\")\n",
    "test_df = pd.read_csv(\"test.csv\")\n",
    "\n",
    "# Specify numeric and non-numeric columns\n",
    "numeric_cols = ['Pclass', 'Age', 'SibSp', 'Parch', 'Fare']\n",
    "non_numeric_cols = ['Name', 'Sex', 'Ticket', 'Cabin', 'Embarked']\n",
    "\n",
    "# Missing numerical values filled with average\n",
    "train_df[numeric_cols] = train_df[numeric_cols].fillna(train_df[numeric_cols].mean())\n",
    "test_df[numeric_cols] = test_df[numeric_cols].fillna(test_df[numeric_cols].mean())\n",
    "\n",
    "# Missing non-numeric values filled with mode\n",
    "for col in non_numeric_cols:\n",
    "    train_df[col].fillna(train_df[col].mode()[0], inplace=True)\n",
    "    test_df[col].fillna(test_df[col].mode()[0], inplace=True)\n",
    "\n",
    "# Split training into features and target variable\n",
    "x_train = train_df.drop(['PassengerId', 'Survived'], axis=1)\n",
    "y_train = train_df['Survived']\n",
    "# Split test into features and target variable\n",
    "x_test = test_df.drop(['PassengerId'], axis=1)"
   ]
  },
  {
   "cell_type": "code",
   "execution_count": null,
   "id": "b23d6f2e",
   "metadata": {},
   "outputs": [],
   "source": []
  }
 ],
 "metadata": {
  "kernelspec": {
   "display_name": "Python 3 (ipykernel)",
   "language": "python",
   "name": "python3"
  },
  "language_info": {
   "codemirror_mode": {
    "name": "ipython",
    "version": 3
   },
   "file_extension": ".py",
   "mimetype": "text/x-python",
   "name": "python",
   "nbconvert_exporter": "python",
   "pygments_lexer": "ipython3",
   "version": "3.11.7"
  }
 },
 "nbformat": 4,
 "nbformat_minor": 5
}
